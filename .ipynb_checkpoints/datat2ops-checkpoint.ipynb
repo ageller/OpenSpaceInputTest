{
 "cells": [
  {
   "cell_type": "markdown",
   "metadata": {},
   "source": [
    "# Creating Asset and Speck Files x,y,z Data"
   ]
  },
  {
   "cell_type": "markdown",
   "metadata": {},
   "source": [
    "*This example is based on https://github.com/IPSScienceVisualization/OpenSpace.*"
   ]
  },
  {
   "cell_type": "markdown",
   "metadata": {},
   "source": [
    "First, I read in my data and create an astropy Table."
   ]
  },
  {
   "cell_type": "code",
   "execution_count": 1,
   "metadata": {},
   "outputs": [],
   "source": [
    "from astropy.io import ascii\n",
    "from astropy.table import Table, Column"
   ]
  },
  {
   "cell_type": "code",
   "execution_count": 2,
   "metadata": {},
   "outputs": [
    {
     "data": {
      "text/html": [
       "<i>Table length=1430</i>\n",
       "<table id=\"table3213074308360\" class=\"table-striped table-bordered table-condensed\">\n",
       "<thead><tr><th>x</th><th>y</th><th>z</th><th>x2</th><th>y2</th><th>z2</th><th>logR</th><th>logL</th><th>t</th></tr></thead>\n",
       "<thead><tr><th>float64</th><th>float64</th><th>float64</th><th>float64</th><th>float64</th><th>float64</th><th>float64</th><th>float64</th><th>float64</th></tr></thead>\n",
       "<tr><td>-1.820982</td><td>-0.800956</td><td>-0.344258</td><td>-1.831593</td><td>-0.802398</td><td>-0.349934</td><td>-0.758</td><td>-2.635</td><td>0.0</td></tr>\n",
       "<tr><td>-1.82322</td><td>-0.804641</td><td>-0.344406</td><td>-1.834297</td><td>-0.799041</td><td>-0.349772</td><td>-0.767</td><td>-2.662</td><td>0.0</td></tr>\n",
       "<tr><td>1.923283</td><td>0.51022</td><td>-1.703798</td><td>1.916028</td><td>0.508344</td><td>-1.698146</td><td>-0.6</td><td>-2.125</td><td>0.0</td></tr>\n",
       "<tr><td>1.919212</td><td>0.509374</td><td>-1.705578</td><td>1.917044</td><td>0.50768</td><td>-1.702502</td><td>-0.859</td><td>-3.128</td><td>0.0</td></tr>\n",
       "<tr><td>0.174317</td><td>0.770536</td><td>-1.734353</td><td>0.164833</td><td>0.763571</td><td>-1.717282</td><td>-0.351</td><td>-1.454</td><td>0.0</td></tr>\n",
       "<tr><td>0.173797</td><td>0.767959</td><td>-1.735647</td><td>0.166596</td><td>0.765208</td><td>-1.718954</td><td>-0.766</td><td>-4.199</td><td>0.0</td></tr>\n",
       "<tr><td>0.821024</td><td>0.384103</td><td>-1.764961</td><td>0.846666</td><td>0.413095</td><td>-1.767998</td><td>-0.846</td><td>-2.905</td><td>0.0</td></tr>\n",
       "<tr><td>0.824811</td><td>0.386587</td><td>-1.766051</td><td>0.848928</td><td>0.415671</td><td>-1.771152</td><td>-0.699</td><td>-5.185</td><td>0.0</td></tr>\n",
       "<tr><td>0.200721</td><td>-0.474372</td><td>0.549109</td><td>0.224507</td><td>-0.469473</td><td>0.517206</td><td>0.331</td><td>2.143</td><td>0.0</td></tr>\n",
       "<tr><td>0.199285</td><td>-0.471332</td><td>0.549376</td><td>0.227378</td><td>-0.467704</td><td>0.517295</td><td>0.184</td><td>0.949</td><td>0.0</td></tr>\n",
       "<tr><td>...</td><td>...</td><td>...</td><td>...</td><td>...</td><td>...</td><td>...</td><td>...</td><td>...</td></tr>\n",
       "<tr><td>-4.783556</td><td>4.84894</td><td>1.629307</td><td>-4.783129</td><td>4.853752</td><td>1.607207</td><td>-0.867</td><td>-2.967</td><td>0.0</td></tr>\n",
       "<tr><td>0.26855</td><td>-2.468513</td><td>-0.937692</td><td>0.297289</td><td>-2.48733</td><td>-0.946963</td><td>-0.867</td><td>-2.968</td><td>0.0</td></tr>\n",
       "<tr><td>-6.534833</td><td>-1.53897</td><td>-1.694343</td><td>-6.526573</td><td>-1.521459</td><td>-1.714049</td><td>-0.87</td><td>-2.975</td><td>0.0</td></tr>\n",
       "<tr><td>0.446152</td><td>-1.753341</td><td>-1.521737</td><td>0.439917</td><td>-1.748738</td><td>-1.546491</td><td>-0.872</td><td>-2.98</td><td>0.0</td></tr>\n",
       "<tr><td>0.601141</td><td>0.899401</td><td>-1.308588</td><td>0.625951</td><td>0.904421</td><td>-1.339796</td><td>-0.873</td><td>-2.985</td><td>0.0</td></tr>\n",
       "<tr><td>0.797948</td><td>3.448262</td><td>0.053525</td><td>0.809643</td><td>3.427364</td><td>0.033689</td><td>-0.874</td><td>-2.994</td><td>0.0</td></tr>\n",
       "<tr><td>-0.100239</td><td>-0.411552</td><td>0.334618</td><td>-0.067414</td><td>-0.42683</td><td>0.315563</td><td>-0.873</td><td>-2.998</td><td>0.0</td></tr>\n",
       "<tr><td>0.291137</td><td>-1.728594</td><td>-1.321183</td><td>0.283237</td><td>-1.716731</td><td>-1.328658</td><td>-0.873</td><td>-3.002</td><td>0.0</td></tr>\n",
       "<tr><td>0.239691</td><td>-0.23447</td><td>0.682901</td><td>0.250787</td><td>-0.261952</td><td>0.707095</td><td>-0.872</td><td>-3.013</td><td>0.0</td></tr>\n",
       "<tr><td>3.482958</td><td>-0.369734</td><td>0.367016</td><td>3.49788</td><td>-0.354722</td><td>0.364875</td><td>-0.871</td><td>-3.018</td><td>0.0</td></tr>\n",
       "</table>"
      ],
      "text/plain": [
       "<Table length=1430>\n",
       "    x         y         z         x2    ...     z2      logR    logL     t   \n",
       " float64   float64   float64   float64  ...  float64  float64 float64 float64\n",
       "--------- --------- --------- --------- ... --------- ------- ------- -------\n",
       "-1.820982 -0.800956 -0.344258 -1.831593 ... -0.349934  -0.758  -2.635     0.0\n",
       " -1.82322 -0.804641 -0.344406 -1.834297 ... -0.349772  -0.767  -2.662     0.0\n",
       " 1.923283   0.51022 -1.703798  1.916028 ... -1.698146    -0.6  -2.125     0.0\n",
       " 1.919212  0.509374 -1.705578  1.917044 ... -1.702502  -0.859  -3.128     0.0\n",
       " 0.174317  0.770536 -1.734353  0.164833 ... -1.717282  -0.351  -1.454     0.0\n",
       " 0.173797  0.767959 -1.735647  0.166596 ... -1.718954  -0.766  -4.199     0.0\n",
       " 0.821024  0.384103 -1.764961  0.846666 ... -1.767998  -0.846  -2.905     0.0\n",
       " 0.824811  0.386587 -1.766051  0.848928 ... -1.771152  -0.699  -5.185     0.0\n",
       " 0.200721 -0.474372  0.549109  0.224507 ...  0.517206   0.331   2.143     0.0\n",
       " 0.199285 -0.471332  0.549376  0.227378 ...  0.517295   0.184   0.949     0.0\n",
       "      ...       ...       ...       ... ...       ...     ...     ...     ...\n",
       "-4.783556   4.84894  1.629307 -4.783129 ...  1.607207  -0.867  -2.967     0.0\n",
       "  0.26855 -2.468513 -0.937692  0.297289 ... -0.946963  -0.867  -2.968     0.0\n",
       "-6.534833  -1.53897 -1.694343 -6.526573 ... -1.714049   -0.87  -2.975     0.0\n",
       " 0.446152 -1.753341 -1.521737  0.439917 ... -1.546491  -0.872   -2.98     0.0\n",
       " 0.601141  0.899401 -1.308588  0.625951 ... -1.339796  -0.873  -2.985     0.0\n",
       " 0.797948  3.448262  0.053525  0.809643 ...  0.033689  -0.874  -2.994     0.0\n",
       "-0.100239 -0.411552  0.334618 -0.067414 ...  0.315563  -0.873  -2.998     0.0\n",
       " 0.291137 -1.728594 -1.321183  0.283237 ... -1.328658  -0.873  -3.002     0.0\n",
       " 0.239691  -0.23447  0.682901  0.250787 ...  0.707095  -0.872  -3.013     0.0\n",
       " 3.482958 -0.369734  0.367016   3.49788 ...  0.364875  -0.871  -3.018     0.0"
      ]
     },
     "execution_count": 2,
     "metadata": {},
     "output_type": "execute_result"
    }
   ],
   "source": [
    "#this is an input file we used for Uniview\n",
    "data = ascii.read(\"AMG_run1k_out_100Myr_nointerp_t0.raw\", names=['x','y','z','x2','y2','z2','logR','logL','t'])\n",
    "data"
   ]
  },
  {
   "cell_type": "markdown",
   "metadata": {},
   "source": [
    "### Trimming Our Astropy Table"
   ]
  },
  {
   "cell_type": "markdown",
   "metadata": {},
   "source": [
    "We only keep the columns we want in our speck file."
   ]
  },
  {
   "cell_type": "code",
   "execution_count": 3,
   "metadata": {},
   "outputs": [
    {
     "data": {
      "text/html": [
       "<i>Table length=1430</i>\n",
       "<table id=\"table3213074308360\" class=\"table-striped table-bordered table-condensed\">\n",
       "<thead><tr><th>x</th><th>y</th><th>z</th><th>logR</th><th>logL</th></tr></thead>\n",
       "<thead><tr><th>float64</th><th>float64</th><th>float64</th><th>float64</th><th>float64</th></tr></thead>\n",
       "<tr><td>-1.820982</td><td>-0.800956</td><td>-0.344258</td><td>-0.758</td><td>-2.635</td></tr>\n",
       "<tr><td>-1.82322</td><td>-0.804641</td><td>-0.344406</td><td>-0.767</td><td>-2.662</td></tr>\n",
       "<tr><td>1.923283</td><td>0.51022</td><td>-1.703798</td><td>-0.6</td><td>-2.125</td></tr>\n",
       "<tr><td>1.919212</td><td>0.509374</td><td>-1.705578</td><td>-0.859</td><td>-3.128</td></tr>\n",
       "<tr><td>0.174317</td><td>0.770536</td><td>-1.734353</td><td>-0.351</td><td>-1.454</td></tr>\n",
       "<tr><td>0.173797</td><td>0.767959</td><td>-1.735647</td><td>-0.766</td><td>-4.199</td></tr>\n",
       "<tr><td>0.821024</td><td>0.384103</td><td>-1.764961</td><td>-0.846</td><td>-2.905</td></tr>\n",
       "<tr><td>0.824811</td><td>0.386587</td><td>-1.766051</td><td>-0.699</td><td>-5.185</td></tr>\n",
       "<tr><td>0.200721</td><td>-0.474372</td><td>0.549109</td><td>0.331</td><td>2.143</td></tr>\n",
       "<tr><td>0.199285</td><td>-0.471332</td><td>0.549376</td><td>0.184</td><td>0.949</td></tr>\n",
       "<tr><td>...</td><td>...</td><td>...</td><td>...</td><td>...</td></tr>\n",
       "<tr><td>-4.783556</td><td>4.84894</td><td>1.629307</td><td>-0.867</td><td>-2.967</td></tr>\n",
       "<tr><td>0.26855</td><td>-2.468513</td><td>-0.937692</td><td>-0.867</td><td>-2.968</td></tr>\n",
       "<tr><td>-6.534833</td><td>-1.53897</td><td>-1.694343</td><td>-0.87</td><td>-2.975</td></tr>\n",
       "<tr><td>0.446152</td><td>-1.753341</td><td>-1.521737</td><td>-0.872</td><td>-2.98</td></tr>\n",
       "<tr><td>0.601141</td><td>0.899401</td><td>-1.308588</td><td>-0.873</td><td>-2.985</td></tr>\n",
       "<tr><td>0.797948</td><td>3.448262</td><td>0.053525</td><td>-0.874</td><td>-2.994</td></tr>\n",
       "<tr><td>-0.100239</td><td>-0.411552</td><td>0.334618</td><td>-0.873</td><td>-2.998</td></tr>\n",
       "<tr><td>0.291137</td><td>-1.728594</td><td>-1.321183</td><td>-0.873</td><td>-3.002</td></tr>\n",
       "<tr><td>0.239691</td><td>-0.23447</td><td>0.682901</td><td>-0.872</td><td>-3.013</td></tr>\n",
       "<tr><td>3.482958</td><td>-0.369734</td><td>0.367016</td><td>-0.871</td><td>-3.018</td></tr>\n",
       "</table>"
      ],
      "text/plain": [
       "<Table length=1430>\n",
       "    x         y         z       logR    logL \n",
       " float64   float64   float64  float64 float64\n",
       "--------- --------- --------- ------- -------\n",
       "-1.820982 -0.800956 -0.344258  -0.758  -2.635\n",
       " -1.82322 -0.804641 -0.344406  -0.767  -2.662\n",
       " 1.923283   0.51022 -1.703798    -0.6  -2.125\n",
       " 1.919212  0.509374 -1.705578  -0.859  -3.128\n",
       " 0.174317  0.770536 -1.734353  -0.351  -1.454\n",
       " 0.173797  0.767959 -1.735647  -0.766  -4.199\n",
       " 0.821024  0.384103 -1.764961  -0.846  -2.905\n",
       " 0.824811  0.386587 -1.766051  -0.699  -5.185\n",
       " 0.200721 -0.474372  0.549109   0.331   2.143\n",
       " 0.199285 -0.471332  0.549376   0.184   0.949\n",
       "      ...       ...       ...     ...     ...\n",
       "-4.783556   4.84894  1.629307  -0.867  -2.967\n",
       "  0.26855 -2.468513 -0.937692  -0.867  -2.968\n",
       "-6.534833  -1.53897 -1.694343   -0.87  -2.975\n",
       " 0.446152 -1.753341 -1.521737  -0.872   -2.98\n",
       " 0.601141  0.899401 -1.308588  -0.873  -2.985\n",
       " 0.797948  3.448262  0.053525  -0.874  -2.994\n",
       "-0.100239 -0.411552  0.334618  -0.873  -2.998\n",
       " 0.291137 -1.728594 -1.321183  -0.873  -3.002\n",
       " 0.239691  -0.23447  0.682901  -0.872  -3.013\n",
       " 3.482958 -0.369734  0.367016  -0.871  -3.018"
      ]
     },
     "execution_count": 3,
     "metadata": {},
     "output_type": "execute_result"
    }
   ],
   "source": [
    "data.keep_columns(['x', 'y', 'z', 'logR', 'logL'])\n",
    "data"
   ]
  },
  {
   "cell_type": "markdown",
   "metadata": {},
   "source": [
    "Create the speck file"
   ]
  },
  {
   "cell_type": "code",
   "execution_count": 4,
   "metadata": {},
   "outputs": [],
   "source": [
    "from datetime import date\n",
    "import os\n",
    "from shutil import copy2"
   ]
  },
  {
   "cell_type": "code",
   "execution_count": 5,
   "metadata": {},
   "outputs": [],
   "source": [
    "def makeSpeck(file_name, data, datasource='unknown'):\n",
    "    today = str(date.today())\n",
    "\n",
    "    f= open(file_name + \".speck\",\"w+\")\n",
    "    f.write(\n",
    "    \"# File created using data from \" + datasource + \"\\n\" +\n",
    "    \"# Adler Planetarium \\n\" +\n",
    "    \"# Prepared on: \" + today + \"\\n\")\n",
    "\n",
    "    #write the header information\n",
    "    for i,d in enumerate(data.colnames):\n",
    "        f.write(f\"datavar {i} {d}\\n\")\n",
    "\n",
    "    #write the data\n",
    "    for row in data:\n",
    "        for d in data.columns:\n",
    "            f.write(f\"{row[d]} \")\n",
    "        f.write(\"\\n\")\n",
    "\n",
    "    f.close()"
   ]
  },
  {
   "cell_type": "code",
   "execution_count": 6,
   "metadata": {},
   "outputs": [],
   "source": [
    "def makeAsset(file_name, GUI_name2 ='unknown', unit = 'Mpc', tex = 'point3.png'):\n",
    "\n",
    "    GUI_path2 = os.getcwd().replace(\"\\\\\",\"/\")\n",
    "    \n",
    "    f2 = open(file_name + \".asset\",\"w+\")\n",
    "    f2.write(\n",
    "    \"local assetHelper = asset.require('util/asset_helper') \\n \\n \\n \\n\" +\n",
    "    \"local textures = asset.syncedResource({\\n\" +\n",
    "    \"    Name = \\\"\" + GUI_name2 + \" Textures\\\",\\n\" +\n",
    "    \"    Type = \\\"HttpSynchronization\\\",\\n\" + \n",
    "    \"    Identifier = \\\"adlerplanetarium_\" + file_name + \"_textures\\\",\\n\" + \n",
    "    \"    Version = 1\\n\" + \n",
    "    \"})\\n \\n\" + \n",
    "    \"local speck = asset.syncedResource({\\n\" +\n",
    "    \"    Name = \\\"\" + GUI_name2 + \" Speck Files\\\",\\n\" + \n",
    "    \"    Type = \\\"HttpSynchronization\\\",\\n\" + \n",
    "    \"    Identifier = \\\"adlerplanetarium_\" + file_name + \"_speck\\\",\\n\" + \n",
    "    \"    Version = 1\\n\" + \n",
    "    \"})\\n \\n\" +\n",
    "    \"local object = {\\n\" +\n",
    "    \"    Identifier = \\\"\" + GUI_name2 + \"\\\",\\n\" +\n",
    "    \"    Renderable = {\\n\" + \n",
    "    \"        Type = \\\"RenderableBillboardsCloud\\\",\\n\" +\n",
    "    \"        Enabled = false,\\n\" + \n",
    "    \"        Color = { 0.8, 0.8, 1.0 },\\n\" + \n",
    "    \"        Transparency = 1.0,\\n\" + \n",
    "    \"        ScaleFactor = 507.88,\\n\" + \n",
    "    \"        File = speck .. \\\"/\" + file_name + \".speck\\\",\\n\" + \n",
    "    \"        Texture = textures .. \\\"/\" + tex + \"\\\",\\n\" + \n",
    "    \"        Unit = \\\"\" + unit + \"\\\",\\n\" + \n",
    "    \"        -- Fade in value in the same unit as \\\"Unit\\\"\\n\" + \n",
    "    \"        FadeInDistances = { 220.0, 650.0 },\\n\" + \n",
    "    \"        BillboardMaxSize = 50.0,\\n\" + \n",
    "    \"        BillboardMinSize = 0.0,\\n\" + \n",
    "    \"        TextSize = 14.8,\\n\" + \n",
    "    \"        TextMinSize = 10.0,\\n\" + \n",
    "    \"        TextMaxSize = 50.0\\n\" + \n",
    "    \"    },\\n\" + \n",
    "    \"    GUI = {\\n\"\n",
    "    \"        Name = \\\"\" + GUI_name2 + \"\\\",\\n\" +\n",
    "    \"        Path = \\\"\" + GUI_path2 + \"\\\"\\n\" +\n",
    "    \"    }\\n\" +\n",
    "    \"}\\n \\n \\n \\n\" + \n",
    "    \"assetHelper.registerSceneGraphNodesAndExport(asset, { object })\"  \n",
    "    )\n",
    "\n",
    "    f2.close()"
   ]
  },
  {
   "cell_type": "code",
   "execution_count": 7,
   "metadata": {},
   "outputs": [],
   "source": [
    "def movefiles(file_name, tex = 'point3.png'):\n",
    "    speck_file = file_name + \".speck\"\n",
    "    asset_file = file_name + \".asset\"\n",
    "\n",
    "# input(\"Write the path to OpenSpace here. e.g C:/Users/akinnane/Desktop/OpenSpace-0.12.0/ \")\n",
    "    start_path_OS = 'C:/Users/Public/Documents/OpenSpace-0.15.2' \n",
    "    start_path_me = os.getcwd().replace(\"\\\\\",\"/\") \n",
    "    start_path_files = os.getcwd().replace(\"\\\\\",\"/\")\n",
    "    initial_speck_path = os.path.join(start_path_OS, \"sync/http/\")\n",
    "\n",
    "    if os.path.isfile(os.path.join(start_path_me, speck_file)):\n",
    "        final_path_speck = os.path.join(initial_speck_path, \"adlerplanetarium_\" + speck_file[:-6] + \"_speck/1\")\n",
    "        if not os.path.isdir(final_path_speck):\n",
    "            os.makedirs(final_path_speck)\n",
    "        copy2(os.path.join(start_path_me, speck_file), final_path_speck)\n",
    "        copy2(os.path.join(start_path_files, \"1.ossync\"), final_path_speck[:-1])\n",
    "\n",
    "        final_path_textures = os.path.join(initial_speck_path, \"adlerplanetarium_\" + file_name + \"_textures/1\")\n",
    "        if not os.path.isdir(final_path_textures):\n",
    "            os.makedirs(final_path_textures)\n",
    "        copy2(os.path.join(start_path_files, tex), final_path_textures)\n",
    "        copy2(os.path.join(start_path_files, \"1.ossync\"), final_path_textures[:-1])\n",
    "    else:\n",
    "        print (\"Speck file not found in your directory\")\n",
    "\n",
    "    asset_path = os.path.join(start_path_OS, \"data/assets/scene/digitaluniverse/\")\n",
    "\n",
    "    if os.path.isfile(os.path.join(start_path_me, asset_file)):\n",
    "        copy2(os.path.join(start_path_me, asset_file), asset_path)\n",
    "    else:\n",
    "        print (\"Asset file not found in your directory\")\n"
   ]
  },
  {
   "cell_type": "code",
   "execution_count": 8,
   "metadata": {},
   "outputs": [],
   "source": [
    "fname = 'Pleiades_Nbody'\n",
    "makeSpeck(fname, data, \"Aaron Geller's nbody6 star cluster simulation\")\n",
    "makeAsset(fname, 'Nbody', unit = 'pc')\n",
    "movefiles(fname)"
   ]
  },
  {
   "cell_type": "code",
   "execution_count": null,
   "metadata": {},
   "outputs": [],
   "source": []
  }
 ],
 "metadata": {
  "kernelspec": {
   "display_name": "Python 3",
   "language": "python",
   "name": "python3"
  },
  "language_info": {
   "codemirror_mode": {
    "name": "ipython",
    "version": 3
   },
   "file_extension": ".py",
   "mimetype": "text/x-python",
   "name": "python",
   "nbconvert_exporter": "python",
   "pygments_lexer": "ipython3",
   "version": "3.7.6"
  }
 },
 "nbformat": 4,
 "nbformat_minor": 2
}
